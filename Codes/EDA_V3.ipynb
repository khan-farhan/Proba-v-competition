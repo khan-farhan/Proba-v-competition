{
 "cells": [
  {
   "cell_type": "markdown",
   "metadata": {},
   "source": [
    "# Analyzing the quality of of LR images of all the scenes"
   ]
  },
  {
   "cell_type": "code",
   "execution_count": 2,
   "metadata": {},
   "outputs": [],
   "source": [
    "from core import *\n",
    "import os\n",
    "import numpy as np"
   ]
  },
  {
   "cell_type": "code",
   "execution_count": 3,
   "metadata": {},
   "outputs": [],
   "source": [
    "TRAIN_DATA_PATH = \"../Data/train\"\n",
    "TEST_DATA_PATH = \"../Data/test\""
   ]
  },
  {
   "cell_type": "code",
   "execution_count": 6,
   "metadata": {},
   "outputs": [],
   "source": [
    "train_scenes_path = scenes_paths(TRAIN_DATA_PATH)\n",
    "test_scenes_path = scenes_paths(TEST_DATA_PATH)"
   ]
  },
  {
   "cell_type": "code",
   "execution_count": 7,
   "metadata": {},
   "outputs": [
    {
     "data": {
      "text/plain": [
       "['../Data/train/RED/imgset0530',\n",
       " '../Data/train/RED/imgset0154',\n",
       " '../Data/train/RED/imgset0366']"
      ]
     },
     "execution_count": 7,
     "metadata": {},
     "output_type": "execute_result"
    }
   ],
   "source": [
    "train_scenes_path[:3]"
   ]
  },
  {
   "cell_type": "markdown",
   "metadata": {},
   "source": [
    "Loading quality map images for scene imgset0530"
   ]
  },
  {
   "cell_type": "code",
   "execution_count": 43,
   "metadata": {},
   "outputs": [],
   "source": [
    "qm_images_imgset0530 = load_lr_qm(\"../Data/train/RED/imgset0530\", quality_map_only = True)"
   ]
  },
  {
   "cell_type": "markdown",
   "metadata": {},
   "source": [
    "Checking only one scene at random shows that **there are scenes in which pixels at some coordinates are of bad quality in all the low resolution images**."
   ]
  },
  {
   "cell_type": "markdown",
   "metadata": {},
   "source": [
    "Checking this for other images in training set"
   ]
  },
  {
   "cell_type": "code",
   "execution_count": 9,
   "metadata": {},
   "outputs": [],
   "source": [
    "qm_images = [load_lr_qm(path, quality_map_only = True) for path in train_scenes_path]"
   ]
  },
  {
   "cell_type": "code",
   "execution_count": 11,
   "metadata": {},
   "outputs": [
    {
     "data": {
      "text/plain": [
       "1160"
      ]
     },
     "execution_count": 11,
     "metadata": {},
     "output_type": "execute_result"
    }
   ],
   "source": [
    "len(qm_images)"
   ]
  },
  {
   "cell_type": "code",
   "execution_count": 23,
   "metadata": {},
   "outputs": [
    {
     "name": "stdout",
     "output_type": "stream",
     "text": [
      "383 scenes have bad quality pixels at a particular coordinate in all the LR images which is 33.01724137931035 % of total images\n"
     ]
    }
   ],
   "source": [
    "count = 0\n",
    "for qm_image in qm_images:\n",
    "    x = np.sum(qm_image,axis = 0)\n",
    "    if (0 in x):\n",
    "        count += 1  \n",
    "\n",
    "print(\"{0} scenes have bad quality pixels at a particular coordinate in all the LR images which is {1} % of total images\".format(count,(count/len(qm_images)*100)))"
   ]
  },
  {
   "cell_type": "code",
   "execution_count": 106,
   "metadata": {},
   "outputs": [],
   "source": [
    "lr_images = [load_lr_qm(path, lr_only = True) for path in train_scenes_path]"
   ]
  },
  {
   "cell_type": "code",
   "execution_count": null,
   "metadata": {},
   "outputs": [],
   "source": [
    "len(lr_images)"
   ]
  },
  {
   "cell_type": "code",
   "execution_count": 10,
   "metadata": {},
   "outputs": [
    {
     "name": "stdout",
     "output_type": "stream",
     "text": [
      "0 scenes have Lr images with NAN values\n"
     ]
    }
   ],
   "source": [
    "count = 0\n",
    "for lr_image in lr_images:\n",
    "    x = np.sum(lr_image,axis = 0)\n",
    "    if (np.isnan in x):\n",
    "        count += 1  \n",
    "print(\"{} scenes have Lr images with NAN values\".format(count))"
   ]
  },
  {
   "cell_type": "code",
   "execution_count": 8,
   "metadata": {},
   "outputs": [
    {
     "data": {
      "text/plain": [
       "['../Data/test/RED/imgset1240',\n",
       " '../Data/test/RED/imgset1247',\n",
       " '../Data/test/RED/imgset1278']"
      ]
     },
     "execution_count": 8,
     "metadata": {},
     "output_type": "execute_result"
    }
   ],
   "source": [
    "test_scenes_path[:3]"
   ]
  },
  {
   "cell_type": "code",
   "execution_count": 10,
   "metadata": {},
   "outputs": [],
   "source": [
    "test_qm_images = [load_lr_qm(path, quality_map_only = True) for path in test_scenes_path]"
   ]
  },
  {
   "cell_type": "code",
   "execution_count": 11,
   "metadata": {},
   "outputs": [
    {
     "data": {
      "text/plain": [
       "290"
      ]
     },
     "execution_count": 11,
     "metadata": {},
     "output_type": "execute_result"
    }
   ],
   "source": [
    "len(test_qm_images)"
   ]
  },
  {
   "cell_type": "code",
   "execution_count": 13,
   "metadata": {},
   "outputs": [
    {
     "name": "stdout",
     "output_type": "stream",
     "text": [
      "97 scenes have bad quality pixels at a particular coordinate in all the LR images which is 33.44827586206897 % of total images\n"
     ]
    }
   ],
   "source": [
    "count = 0\n",
    "for qm_image in test_qm_images:\n",
    "    x = np.sum(qm_image,axis = 0)\n",
    "    if (0 in x):\n",
    "        count += 1  \n",
    "\n",
    "print(\"{0} scenes have bad quality pixels at a particular coordinate in all the LR images which is {1} % of total images\".format(count,(count/len(test_qm_images)*100)))"
   ]
  },
  {
   "cell_type": "code",
   "execution_count": 14,
   "metadata": {},
   "outputs": [],
   "source": [
    "test_lr_images = [load_lr_qm(path, lr_only = True) for path in test_scenes_path]"
   ]
  },
  {
   "cell_type": "code",
   "execution_count": 15,
   "metadata": {},
   "outputs": [
    {
     "data": {
      "text/plain": [
       "290"
      ]
     },
     "execution_count": 15,
     "metadata": {},
     "output_type": "execute_result"
    }
   ],
   "source": [
    "len(test_lr_images)"
   ]
  },
  {
   "cell_type": "code",
   "execution_count": 18,
   "metadata": {},
   "outputs": [
    {
     "name": "stdout",
     "output_type": "stream",
     "text": [
      "0 scenes have Lr images with NAN values\n"
     ]
    }
   ],
   "source": [
    "count = 0\n",
    "for lr_image in test_lr_images:\n",
    "    x = np.sum(lr_image,axis = 0)\n",
    "    if (np.isnan in x):\n",
    "        count += 1  \n",
    "print(\"{} scenes have Lr images with NAN values\".format(count))"
   ]
  },
  {
   "cell_type": "code",
   "execution_count": null,
   "metadata": {},
   "outputs": [],
   "source": []
  },
  {
   "cell_type": "code",
   "execution_count": null,
   "metadata": {},
   "outputs": [],
   "source": []
  }
 ],
 "metadata": {
  "kernelspec": {
   "display_name": "Python 3",
   "language": "python",
   "name": "python3"
  },
  "language_info": {
   "codemirror_mode": {
    "name": "ipython",
    "version": 3
   },
   "file_extension": ".py",
   "mimetype": "text/x-python",
   "name": "python",
   "nbconvert_exporter": "python",
   "pygments_lexer": "ipython3",
   "version": "3.6.6"
  }
 },
 "nbformat": 4,
 "nbformat_minor": 2
}
