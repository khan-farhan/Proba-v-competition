{
 "cells": [
  {
   "cell_type": "markdown",
   "metadata": {},
   "source": [
    "# Initial EDA"
   ]
  },
  {
   "cell_type": "code",
   "execution_count": 1,
   "metadata": {},
   "outputs": [],
   "source": [
    "from core import *\n",
    "import os"
   ]
  },
  {
   "cell_type": "markdown",
   "metadata": {},
   "source": [
    "# Getting the data"
   ]
  },
  {
   "cell_type": "code",
   "execution_count": 53,
   "metadata": {},
   "outputs": [
    {
     "name": "stdout",
     "output_type": "stream",
     "text": [
      "Downloading...\n",
      "Downloading done.\n",
      "\n",
      "Extracting...\n",
      "Extracting successfully done.\n",
      "Data is in ../Data directory\n"
     ]
    }
   ],
   "source": [
    "downloadData()"
   ]
  },
  {
   "cell_type": "code",
   "execution_count": 56,
   "metadata": {},
   "outputs": [
    {
     "data": {
      "text/plain": [
       "['test', 'norm.csv', 'train']"
      ]
     },
     "execution_count": 56,
     "metadata": {},
     "output_type": "execute_result"
    }
   ],
   "source": [
    "DATA_PATH = os.path.abspath(\"../Data\")\n",
    "os.listdir(DATA_PATH)"
   ]
  },
  {
   "cell_type": "markdown",
   "metadata": {},
   "source": [
    "* **train** : It has scene images for training the algorithm<br> \n",
    "* **test** : It has scene images for creting super resolved image for submission<br>\n",
    "* **norm.csv** : cPSNR  of a baseline solution which is used to normalize the submission "
   ]
  },
  {
   "cell_type": "code",
   "execution_count": 2,
   "metadata": {},
   "outputs": [
    {
     "data": {
      "text/html": [
       "<div>\n",
       "<style scoped>\n",
       "    .dataframe tbody tr th:only-of-type {\n",
       "        vertical-align: middle;\n",
       "    }\n",
       "\n",
       "    .dataframe tbody tr th {\n",
       "        vertical-align: top;\n",
       "    }\n",
       "\n",
       "    .dataframe thead th {\n",
       "        text-align: right;\n",
       "    }\n",
       "</style>\n",
       "<table border=\"1\" class=\"dataframe\">\n",
       "  <thead>\n",
       "    <tr style=\"text-align: right;\">\n",
       "      <th></th>\n",
       "      <th>cPSNR</th>\n",
       "    </tr>\n",
       "    <tr>\n",
       "      <th>scene</th>\n",
       "      <th></th>\n",
       "    </tr>\n",
       "  </thead>\n",
       "  <tbody>\n",
       "    <tr>\n",
       "      <th>imgset0000</th>\n",
       "      <td>52.352173</td>\n",
       "    </tr>\n",
       "    <tr>\n",
       "      <th>imgset0001</th>\n",
       "      <td>46.464812</td>\n",
       "    </tr>\n",
       "    <tr>\n",
       "      <th>imgset0002</th>\n",
       "      <td>48.646021</td>\n",
       "    </tr>\n",
       "    <tr>\n",
       "      <th>imgset0003</th>\n",
       "      <td>45.709971</td>\n",
       "    </tr>\n",
       "    <tr>\n",
       "      <th>imgset0004</th>\n",
       "      <td>52.947346</td>\n",
       "    </tr>\n",
       "  </tbody>\n",
       "</table>\n",
       "</div>"
      ],
      "text/plain": [
       "                cPSNR\n",
       "scene                \n",
       "imgset0000  52.352173\n",
       "imgset0001  46.464812\n",
       "imgset0002  48.646021\n",
       "imgset0003  45.709971\n",
       "imgset0004  52.947346"
      ]
     },
     "execution_count": 2,
     "metadata": {},
     "output_type": "execute_result"
    }
   ],
   "source": [
    "baseline_cPSNR.head()"
   ]
  },
  {
   "cell_type": "markdown",
   "metadata": {},
   "source": [
    "# Exploring Training directory"
   ]
  },
  {
   "cell_type": "code",
   "execution_count": 39,
   "metadata": {},
   "outputs": [
    {
     "name": "stdout",
     "output_type": "stream",
     "text": [
      "Train directory : ['RED', 'NIR']\n"
     ]
    }
   ],
   "source": [
    "print(\"Train directory : {}\".format(os.listdir(DATA_PATH + \"/train\")))"
   ]
  },
  {
   "cell_type": "markdown",
   "metadata": {},
   "source": [
    "Data from two channels **\"RED\"** and **\"NIR\"** is given"
   ]
  },
  {
   "cell_type": "code",
   "execution_count": 40,
   "metadata": {},
   "outputs": [
    {
     "data": {
      "text/plain": [
       "['imgset0530', 'imgset0154', 'imgset0366']"
      ]
     },
     "execution_count": 40,
     "metadata": {},
     "output_type": "execute_result"
    }
   ],
   "source": [
    "Train_RED_channel_scenes = os.listdir(DATA_PATH + \"/train/RED\")\n",
    "Train_RED_channel_scenes[:3]"
   ]
  },
  {
   "cell_type": "code",
   "execution_count": 41,
   "metadata": {},
   "outputs": [
    {
     "name": "stdout",
     "output_type": "stream",
     "text": [
      "Total scenes from RED channel : 594\n"
     ]
    }
   ],
   "source": [
    "print(\"Total scenes from RED channel : {}\".format(len(Train_RED_channel_scenes)))"
   ]
  },
  {
   "cell_type": "code",
   "execution_count": 42,
   "metadata": {},
   "outputs": [
    {
     "data": {
      "text/plain": [
       "['imgset0702', 'imgset0968', 'imgset1086']"
      ]
     },
     "execution_count": 42,
     "metadata": {},
     "output_type": "execute_result"
    }
   ],
   "source": [
    "Train_NIR_channel_scenes = os.listdir(DATA_PATH + \"/train/NIR\")\n",
    "Train_NIR_channel_scenes[:3]"
   ]
  },
  {
   "cell_type": "code",
   "execution_count": 43,
   "metadata": {},
   "outputs": [
    {
     "name": "stdout",
     "output_type": "stream",
     "text": [
      "Total scenes from RED channel : 566\n"
     ]
    }
   ],
   "source": [
    "print(\"Total scenes from RED channel : {}\".format(len(Train_NIR_channel_scenes)))"
   ]
  },
  {
   "cell_type": "code",
   "execution_count": 44,
   "metadata": {},
   "outputs": [
    {
     "name": "stdout",
     "output_type": "stream",
     "text": [
      "Total scenes in Training data : 1160 \n"
     ]
    }
   ],
   "source": [
    "print(\"Total scenes in Training data : {} \".format(len(Train_RED_channel_scenes) + len(Train_NIR_channel_scenes)))"
   ]
  },
  {
   "cell_type": "code",
   "execution_count": 45,
   "metadata": {},
   "outputs": [
    {
     "name": "stdout",
     "output_type": "stream",
     "text": [
      "Content of a scence directory\n"
     ]
    },
    {
     "data": {
      "text/plain": [
       "['LR012.png',\n",
       " 'LR006.png',\n",
       " 'QM008.png',\n",
       " 'QM009.png',\n",
       " 'LR007.png',\n",
       " 'LR005.png',\n",
       " 'LR011.png',\n",
       " 'LR010.png',\n",
       " 'LR004.png',\n",
       " 'LR000.png',\n",
       " 'LR001.png',\n",
       " 'LR003.png',\n",
       " 'LR002.png',\n",
       " 'HR.png',\n",
       " 'SM.png',\n",
       " 'QM001.png',\n",
       " 'QM000.png',\n",
       " 'QM002.png',\n",
       " 'QM003.png',\n",
       " 'LR009.png',\n",
       " 'QM007.png',\n",
       " 'QM012.png',\n",
       " 'QM006.png',\n",
       " 'LR008.png',\n",
       " 'QM010.png',\n",
       " 'QM004.png',\n",
       " 'QM005.png',\n",
       " 'QM011.png']"
      ]
     },
     "execution_count": 45,
     "metadata": {},
     "output_type": "execute_result"
    }
   ],
   "source": [
    "print(\"Content of a scence directory\")\n",
    "os.listdir(DATA_PATH + \"/train/RED/imgset0530\")"
   ]
  },
  {
   "cell_type": "markdown",
   "metadata": {},
   "source": [
    "Each scene folder has 4 different king of images:<br>\n",
    "* **HR.png**: high resolution image (ground truth for super-resolution)\n",
    "* **SM.png**: status map of HR.png, indicating clear pixels by a value of 1\n",
    "* **LRXXX.png**: low resolution image\n",
    "* **QMXXX.png**: status map of LRXXX.png, indicating clear pixels by a value of 1\n"
   ]
  },
  {
   "cell_type": "markdown",
   "metadata": {},
   "source": [
    "# Exploring Test directory"
   ]
  },
  {
   "cell_type": "code",
   "execution_count": 46,
   "metadata": {},
   "outputs": [
    {
     "name": "stdout",
     "output_type": "stream",
     "text": [
      "Test directory : ['RED', 'NIR']\n"
     ]
    }
   ],
   "source": [
    "print(\"Test directory : {}\".format(os.listdir(DATA_PATH + \"/test\")))"
   ]
  },
  {
   "cell_type": "markdown",
   "metadata": {},
   "source": [
    "Data from two channels **\"RED\"** and **\"NIR\"** is given"
   ]
  },
  {
   "cell_type": "code",
   "execution_count": 47,
   "metadata": {},
   "outputs": [
    {
     "data": {
      "text/plain": [
       "['imgset1240', 'imgset1247', 'imgset1278']"
      ]
     },
     "execution_count": 47,
     "metadata": {},
     "output_type": "execute_result"
    }
   ],
   "source": [
    "Test_RED_channel_scenes = os.listdir(DATA_PATH + \"/test/RED\")\n",
    "Test_RED_channel_scenes[:3]"
   ]
  },
  {
   "cell_type": "code",
   "execution_count": 48,
   "metadata": {},
   "outputs": [
    {
     "name": "stdout",
     "output_type": "stream",
     "text": [
      "Total scenes from RED channel : 146\n"
     ]
    }
   ],
   "source": [
    "print(\"Total scenes from RED channel : {}\".format(len(Test_RED_channel_scenes)))"
   ]
  },
  {
   "cell_type": "code",
   "execution_count": 49,
   "metadata": {},
   "outputs": [
    {
     "data": {
      "text/plain": [
       "['imgset1416', 'imgset1429', 'imgset1411']"
      ]
     },
     "execution_count": 49,
     "metadata": {},
     "output_type": "execute_result"
    }
   ],
   "source": [
    "Test_NIR_channel_scenes = os.listdir(DATA_PATH + \"/test/NIR\")\n",
    "Test_NIR_channel_scenes[:3]"
   ]
  },
  {
   "cell_type": "code",
   "execution_count": 50,
   "metadata": {},
   "outputs": [
    {
     "name": "stdout",
     "output_type": "stream",
     "text": [
      "Total scenes from NIR channel : 144\n"
     ]
    }
   ],
   "source": [
    "print(\"Total scenes from NIR channel : {}\".format(len(Test_NIR_channel_scenes)))"
   ]
  },
  {
   "cell_type": "code",
   "execution_count": 51,
   "metadata": {},
   "outputs": [
    {
     "name": "stdout",
     "output_type": "stream",
     "text": [
      "Total scenes in Test data : 290 \n"
     ]
    }
   ],
   "source": [
    "print(\"Total scenes in Test data : {} \".format(len(Test_RED_channel_scenes) + len(Test_NIR_channel_scenes)))"
   ]
  },
  {
   "cell_type": "code",
   "execution_count": 52,
   "metadata": {},
   "outputs": [
    {
     "name": "stdout",
     "output_type": "stream",
     "text": [
      "Content of a scence directory\n"
     ]
    },
    {
     "data": {
      "text/plain": [
       "['LR012.png',\n",
       " 'LR006.png',\n",
       " 'QM008.png',\n",
       " 'QM009.png',\n",
       " 'LR007.png',\n",
       " 'LR013.png',\n",
       " 'LR005.png',\n",
       " 'LR011.png',\n",
       " 'LR010.png',\n",
       " 'LR004.png',\n",
       " 'LR000.png',\n",
       " 'LR014.png',\n",
       " 'LR015.png',\n",
       " 'LR001.png',\n",
       " 'LR017.png',\n",
       " 'LR003.png',\n",
       " 'LR002.png',\n",
       " 'LR016.png',\n",
       " 'SM.png',\n",
       " 'QM015.png',\n",
       " 'QM001.png',\n",
       " 'QM000.png',\n",
       " 'QM014.png',\n",
       " 'QM002.png',\n",
       " 'QM016.png',\n",
       " 'QM017.png',\n",
       " 'QM003.png',\n",
       " 'LR009.png',\n",
       " 'QM007.png',\n",
       " 'QM013.png',\n",
       " 'QM012.png',\n",
       " 'QM006.png',\n",
       " 'LR008.png',\n",
       " 'QM010.png',\n",
       " 'QM004.png',\n",
       " 'QM005.png',\n",
       " 'QM011.png']"
      ]
     },
     "execution_count": 52,
     "metadata": {},
     "output_type": "execute_result"
    }
   ],
   "source": [
    "print(\"Content of a scence directory\")\n",
    "os.listdir(DATA_PATH + \"/test/RED/imgset1240\")"
   ]
  },
  {
   "cell_type": "markdown",
   "metadata": {},
   "source": [
    "Each scene folder has 3 different king of images:<br>\n",
    "* **SM.png**: status map of the corresponding HR.png, indicating clear pixels by a value of 1\n",
    "* **LRXXX.png**: low resolution image\n",
    "* **QMXXX.png**: status map of LRXXX.png, indicating clear pixels by a value of 1"
   ]
  }
 ],
 "metadata": {
  "kernelspec": {
   "display_name": "Python 3",
   "language": "python",
   "name": "python3"
  },
  "language_info": {
   "codemirror_mode": {
    "name": "ipython",
    "version": 3
   },
   "file_extension": ".py",
   "mimetype": "text/x-python",
   "name": "python",
   "nbconvert_exporter": "python",
   "pygments_lexer": "ipython3",
   "version": "3.6.6"
  }
 },
 "nbformat": 4,
 "nbformat_minor": 2
}
