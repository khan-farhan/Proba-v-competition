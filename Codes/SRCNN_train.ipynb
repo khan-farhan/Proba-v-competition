{
 "cells": [
  {
   "cell_type": "code",
   "execution_count": 13,
   "metadata": {},
   "outputs": [],
   "source": [
    "from core import *\n",
    "from keras.callbacks import ModelCheckpoint, TensorBoard\n",
    "from keras.optimizers import SGD, Adam\n",
    "import os\n",
    "import time\n",
    "import glob\n",
    "import tensorflow as tf"
   ]
  },
  {
   "cell_type": "code",
   "execution_count": 14,
   "metadata": {},
   "outputs": [],
   "source": [
    "DATA_PATH = \"../Data/Median_images\""
   ]
  },
  {
   "cell_type": "code",
   "execution_count": 3,
   "metadata": {},
   "outputs": [],
   "source": [
    "Y_imgs_path = [path for path in glob.glob(DATA_PATH + \"/*_HR.png\")]\n",
    "X_imgs_path = [path[:-7] + \".png\" for path in Y_imgs_path]"
   ]
  },
  {
   "cell_type": "code",
   "execution_count": 7,
   "metadata": {},
   "outputs": [],
   "source": [
    "X_imgs = np.array([skimage.img_as_float64(load_image(path, dtype=np.uint16)) for path in X_imgs_path])\n",
    "Y_imgs = np.array([skimage.img_as_float64(load_image(path, dtype=np.uint16)) for path in Y_imgs_path])"
   ]
  },
  {
   "cell_type": "code",
   "execution_count": 8,
   "metadata": {},
   "outputs": [],
   "source": [
    "X_imgs = X_imgs.reshape(X_imgs.shape[0],X_imgs.shape[1],X_imgs.shape[2],1)\n",
    "Y_imgs = Y_imgs.reshape(Y_imgs.shape[0],Y_imgs.shape[1],Y_imgs.shape[2],1)\n"
   ]
  },
  {
   "cell_type": "code",
   "execution_count": 9,
   "metadata": {},
   "outputs": [],
   "source": [
    "srcnn_model = model(X_imgs.shape[1:])\n",
    "optimizer = Adam(lr=0.001, beta_1=0.9, beta_2=0.999, epsilon=None, decay=0.2, amsgrad=False)\n",
    "srcnn_model.compile(optimizer='adam', loss=\"mean_squared_error\", metrics=['mean_squared_error']) \n",
    "srcnn_model.load_weights(\"../models/SRCNN/weights/weights.h5\")   \n"
   ]
  },
  {
   "cell_type": "code",
   "execution_count": 10,
   "metadata": {},
   "outputs": [
    {
     "name": "stdout",
     "output_type": "stream",
     "text": [
      "_________________________________________________________________\n",
      "Layer (type)                 Output Shape              Param #   \n",
      "=================================================================\n",
      "input_1 (InputLayer)         (None, 384, 384, 1)       0         \n",
      "_________________________________________________________________\n",
      "conv2d_1 (Conv2D)            (None, 384, 384, 128)     10496     \n",
      "_________________________________________________________________\n",
      "conv2d_2 (Conv2D)            (None, 384, 384, 64)      73792     \n",
      "_________________________________________________________________\n",
      "conv2d_3 (Conv2D)            (None, 384, 384, 1)       1601      \n",
      "=================================================================\n",
      "Total params: 85,889\n",
      "Trainable params: 85,889\n",
      "Non-trainable params: 0\n",
      "_________________________________________________________________\n"
     ]
    }
   ],
   "source": [
    "srcnn_model.summary()"
   ]
  },
  {
   "cell_type": "code",
   "execution_count": 11,
   "metadata": {},
   "outputs": [],
   "source": [
    "checkpoint = ModelCheckpoint(\"../models/SRCNN/weights/weights.h5\", monitor='loss', verbose=1, save_best_only=True, save_weights_only=False, mode='min')\n",
    "\n",
    "tensorboard_callback = TensorBoard(log_dir=\"../models/SRCNN/logs/{}\".format(time.time()))\n",
    "\n",
    "callbacks_list = [checkpoint,tensorboard_callback]"
   ]
  },
  {
   "cell_type": "code",
   "execution_count": 34,
   "metadata": {
    "scrolled": true
   },
   "outputs": [
    {
     "name": "stdout",
     "output_type": "stream",
     "text": [
      "Train on 928 samples, validate on 232 samples\n",
      "Epoch 1/200\n",
      "928/928 [==============================] - 72s 78ms/step - loss: 9.0856e-04 - mean_squared_error: 9.0856e-04 - val_loss: 1.3659e-04 - val_mean_squared_error: 1.3659e-04\n",
      "\n",
      "Epoch 00001: loss improved from inf to 0.00091, saving model to ../models/SRCNN/weights/weights.h5\n",
      "Epoch 2/200\n",
      "928/928 [==============================] - 66s 71ms/step - loss: 7.6044e-05 - mean_squared_error: 7.6044e-05 - val_loss: 5.3823e-05 - val_mean_squared_error: 5.3823e-05\n",
      "\n",
      "Epoch 00002: loss improved from 0.00091 to 0.00008, saving model to ../models/SRCNN/weights/weights.h5\n",
      "Epoch 3/200\n",
      "928/928 [==============================] - 66s 71ms/step - loss: 5.8783e-05 - mean_squared_error: 5.8783e-05 - val_loss: 5.2200e-05 - val_mean_squared_error: 5.2200e-05\n",
      "\n",
      "Epoch 00003: loss improved from 0.00008 to 0.00006, saving model to ../models/SRCNN/weights/weights.h5\n",
      "Epoch 4/200\n",
      "928/928 [==============================] - 66s 71ms/step - loss: 5.7699e-05 - mean_squared_error: 5.7699e-05 - val_loss: 5.8283e-05 - val_mean_squared_error: 5.8283e-05\n",
      "\n",
      "Epoch 00004: loss improved from 0.00006 to 0.00006, saving model to ../models/SRCNN/weights/weights.h5\n",
      "Epoch 5/200\n",
      "928/928 [==============================] - 66s 71ms/step - loss: 5.5533e-05 - mean_squared_error: 5.5533e-05 - val_loss: 5.2031e-05 - val_mean_squared_error: 5.2031e-05\n",
      "\n",
      "Epoch 00005: loss improved from 0.00006 to 0.00006, saving model to ../models/SRCNN/weights/weights.h5\n",
      "Epoch 6/200\n",
      "928/928 [==============================] - 66s 71ms/step - loss: 5.3598e-05 - mean_squared_error: 5.3598e-05 - val_loss: 4.7668e-05 - val_mean_squared_error: 4.7668e-05\n",
      "\n",
      "Epoch 00006: loss improved from 0.00006 to 0.00005, saving model to ../models/SRCNN/weights/weights.h5\n",
      "Epoch 7/200\n",
      "928/928 [==============================] - 66s 71ms/step - loss: 5.2778e-05 - mean_squared_error: 5.2778e-05 - val_loss: 4.8599e-05 - val_mean_squared_error: 4.8599e-05\n",
      "\n",
      "Epoch 00007: loss improved from 0.00005 to 0.00005, saving model to ../models/SRCNN/weights/weights.h5\n",
      "Epoch 8/200\n",
      "928/928 [==============================] - 66s 71ms/step - loss: 5.1503e-05 - mean_squared_error: 5.1503e-05 - val_loss: 4.6474e-05 - val_mean_squared_error: 4.6474e-05\n",
      "\n",
      "Epoch 00008: loss improved from 0.00005 to 0.00005, saving model to ../models/SRCNN/weights/weights.h5\n",
      "Epoch 9/200\n",
      "928/928 [==============================] - 66s 71ms/step - loss: 5.1017e-05 - mean_squared_error: 5.1017e-05 - val_loss: 5.0508e-05 - val_mean_squared_error: 5.0508e-05\n",
      "\n",
      "Epoch 00009: loss improved from 0.00005 to 0.00005, saving model to ../models/SRCNN/weights/weights.h5\n",
      "Epoch 10/200\n",
      "928/928 [==============================] - 66s 71ms/step - loss: 5.1585e-05 - mean_squared_error: 5.1585e-05 - val_loss: 4.5751e-05 - val_mean_squared_error: 4.5751e-05\n",
      "\n",
      "Epoch 00010: loss did not improve from 0.00005\n",
      "Epoch 11/200\n",
      "928/928 [==============================] - 66s 71ms/step - loss: 5.0742e-05 - mean_squared_error: 5.0742e-05 - val_loss: 4.7913e-05 - val_mean_squared_error: 4.7913e-05\n",
      "\n",
      "Epoch 00011: loss improved from 0.00005 to 0.00005, saving model to ../models/SRCNN/weights/weights.h5\n",
      "Epoch 12/200\n",
      "928/928 [==============================] - 66s 71ms/step - loss: 5.0729e-05 - mean_squared_error: 5.0729e-05 - val_loss: 4.8586e-05 - val_mean_squared_error: 4.8586e-05\n",
      "\n",
      "Epoch 00012: loss improved from 0.00005 to 0.00005, saving model to ../models/SRCNN/weights/weights.h5\n",
      "Epoch 13/200\n",
      "928/928 [==============================] - 66s 71ms/step - loss: 5.2999e-05 - mean_squared_error: 5.2999e-05 - val_loss: 4.6805e-05 - val_mean_squared_error: 4.6805e-05\n",
      "\n",
      "Epoch 00013: loss did not improve from 0.00005\n",
      "Epoch 14/200\n",
      "928/928 [==============================] - 66s 71ms/step - loss: 5.1802e-05 - mean_squared_error: 5.1802e-05 - val_loss: 4.5208e-05 - val_mean_squared_error: 4.5208e-05\n",
      "\n",
      "Epoch 00014: loss did not improve from 0.00005\n",
      "Epoch 15/200\n",
      "928/928 [==============================] - 66s 71ms/step - loss: 5.0658e-05 - mean_squared_error: 5.0658e-05 - val_loss: 4.9420e-05 - val_mean_squared_error: 4.9420e-05\n",
      "\n",
      "Epoch 00015: loss improved from 0.00005 to 0.00005, saving model to ../models/SRCNN/weights/weights.h5\n",
      "Epoch 16/200\n",
      "928/928 [==============================] - 66s 71ms/step - loss: 5.2601e-05 - mean_squared_error: 5.2601e-05 - val_loss: 4.8915e-05 - val_mean_squared_error: 4.8915e-05\n",
      "\n",
      "Epoch 00016: loss did not improve from 0.00005\n",
      "Epoch 17/200\n",
      "928/928 [==============================] - 66s 71ms/step - loss: 5.1617e-05 - mean_squared_error: 5.1617e-05 - val_loss: 5.5728e-05 - val_mean_squared_error: 5.5728e-05\n",
      "\n",
      "Epoch 00017: loss did not improve from 0.00005\n",
      "Epoch 18/200\n",
      "928/928 [==============================] - 66s 71ms/step - loss: 5.2612e-05 - mean_squared_error: 5.2612e-05 - val_loss: 4.4974e-05 - val_mean_squared_error: 4.4974e-05\n",
      "\n",
      "Epoch 00018: loss did not improve from 0.00005\n",
      "Epoch 19/200\n",
      "928/928 [==============================] - 66s 71ms/step - loss: 5.0276e-05 - mean_squared_error: 5.0276e-05 - val_loss: 5.9759e-05 - val_mean_squared_error: 5.9759e-05\n",
      "\n",
      "Epoch 00019: loss improved from 0.00005 to 0.00005, saving model to ../models/SRCNN/weights/weights.h5\n",
      "Epoch 20/200\n",
      "928/928 [==============================] - 66s 71ms/step - loss: 5.0744e-05 - mean_squared_error: 5.0744e-05 - val_loss: 4.8107e-05 - val_mean_squared_error: 4.8107e-05\n",
      "\n",
      "Epoch 00020: loss did not improve from 0.00005\n",
      "Epoch 21/200\n",
      "928/928 [==============================] - 66s 71ms/step - loss: 5.0213e-05 - mean_squared_error: 5.0213e-05 - val_loss: 4.4729e-05 - val_mean_squared_error: 4.4729e-05\n",
      "\n",
      "Epoch 00021: loss improved from 0.00005 to 0.00005, saving model to ../models/SRCNN/weights/weights.h5\n",
      "Epoch 22/200\n",
      "928/928 [==============================] - 66s 71ms/step - loss: 4.9305e-05 - mean_squared_error: 4.9305e-05 - val_loss: 4.6818e-05 - val_mean_squared_error: 4.6818e-05\n",
      "\n",
      "Epoch 00022: loss improved from 0.00005 to 0.00005, saving model to ../models/SRCNN/weights/weights.h5\n",
      "Epoch 23/200\n",
      "928/928 [==============================] - 66s 71ms/step - loss: 5.0649e-05 - mean_squared_error: 5.0649e-05 - val_loss: 5.0535e-05 - val_mean_squared_error: 5.0535e-05\n",
      "\n",
      "Epoch 00023: loss did not improve from 0.00005\n",
      "Epoch 24/200\n",
      "928/928 [==============================] - 66s 71ms/step - loss: 5.0274e-05 - mean_squared_error: 5.0274e-05 - val_loss: 4.9612e-05 - val_mean_squared_error: 4.9612e-05\n",
      "\n",
      "Epoch 00024: loss did not improve from 0.00005\n",
      "Epoch 25/200\n",
      "928/928 [==============================] - 66s 71ms/step - loss: 5.0022e-05 - mean_squared_error: 5.0022e-05 - val_loss: 4.4636e-05 - val_mean_squared_error: 4.4636e-05\n",
      "\n",
      "Epoch 00025: loss did not improve from 0.00005\n",
      "Epoch 26/200\n",
      "928/928 [==============================] - 66s 71ms/step - loss: 4.9926e-05 - mean_squared_error: 4.9926e-05 - val_loss: 5.6747e-05 - val_mean_squared_error: 5.6747e-05\n",
      "\n",
      "Epoch 00026: loss did not improve from 0.00005\n",
      "Epoch 27/200\n",
      "928/928 [==============================] - 66s 71ms/step - loss: 4.9790e-05 - mean_squared_error: 4.9790e-05 - val_loss: 4.4923e-05 - val_mean_squared_error: 4.4923e-05\n",
      "\n",
      "Epoch 00027: loss did not improve from 0.00005\n",
      "Epoch 28/200\n",
      "896/928 [===========================>..] - ETA: 2s - loss: 5.1198e-05 - mean_squared_error: 5.1198e-05"
     ]
    },
    {
     "ename": "KeyboardInterrupt",
     "evalue": "",
     "output_type": "error",
     "traceback": [
      "\u001b[0;31m---------------------------------------------------------------------------\u001b[0m",
      "\u001b[0;31mKeyboardInterrupt\u001b[0m                         Traceback (most recent call last)",
      "\u001b[0;32m<ipython-input-34-0e5ee2165066>\u001b[0m in \u001b[0;36m<module>\u001b[0;34m()\u001b[0m\n\u001b[0;32m----> 1\u001b[0;31m \u001b[0msrcnn_model\u001b[0m\u001b[0;34m.\u001b[0m\u001b[0mfit\u001b[0m\u001b[0;34m(\u001b[0m\u001b[0mX_imgs\u001b[0m\u001b[0;34m,\u001b[0m \u001b[0mY_imgs\u001b[0m\u001b[0;34m,\u001b[0m \u001b[0mbatch_size\u001b[0m\u001b[0;34m=\u001b[0m\u001b[0;36m32\u001b[0m\u001b[0;34m,\u001b[0m\u001b[0mvalidation_split\u001b[0m \u001b[0;34m=\u001b[0m \u001b[0;36m0.2\u001b[0m\u001b[0;34m,\u001b[0m \u001b[0mshuffle\u001b[0m\u001b[0;34m=\u001b[0m\u001b[0;32mTrue\u001b[0m\u001b[0;34m,\u001b[0m \u001b[0mepochs\u001b[0m\u001b[0;34m=\u001b[0m\u001b[0;36m200\u001b[0m\u001b[0;34m,\u001b[0m\u001b[0mcallbacks\u001b[0m\u001b[0;34m=\u001b[0m\u001b[0mcallbacks_list\u001b[0m\u001b[0;34m,\u001b[0m \u001b[0mverbose\u001b[0m\u001b[0;34m=\u001b[0m\u001b[0;36m1\u001b[0m\u001b[0;34m)\u001b[0m\u001b[0;34m\u001b[0m\u001b[0m\n\u001b[0m",
      "\u001b[0;32m~/anaconda3/envs/tensorflow_p36/lib/python3.6/site-packages/keras/engine/training.py\u001b[0m in \u001b[0;36mfit\u001b[0;34m(self, x, y, batch_size, epochs, verbose, callbacks, validation_split, validation_data, shuffle, class_weight, sample_weight, initial_epoch, steps_per_epoch, validation_steps, **kwargs)\u001b[0m\n\u001b[1;32m   1037\u001b[0m                                         \u001b[0minitial_epoch\u001b[0m\u001b[0;34m=\u001b[0m\u001b[0minitial_epoch\u001b[0m\u001b[0;34m,\u001b[0m\u001b[0;34m\u001b[0m\u001b[0m\n\u001b[1;32m   1038\u001b[0m                                         \u001b[0msteps_per_epoch\u001b[0m\u001b[0;34m=\u001b[0m\u001b[0msteps_per_epoch\u001b[0m\u001b[0;34m,\u001b[0m\u001b[0;34m\u001b[0m\u001b[0m\n\u001b[0;32m-> 1039\u001b[0;31m                                         validation_steps=validation_steps)\n\u001b[0m\u001b[1;32m   1040\u001b[0m \u001b[0;34m\u001b[0m\u001b[0m\n\u001b[1;32m   1041\u001b[0m     def evaluate(self, x=None, y=None,\n",
      "\u001b[0;32m~/anaconda3/envs/tensorflow_p36/lib/python3.6/site-packages/keras/engine/training_arrays.py\u001b[0m in \u001b[0;36mfit_loop\u001b[0;34m(model, f, ins, out_labels, batch_size, epochs, verbose, callbacks, val_f, val_ins, shuffle, callback_metrics, initial_epoch, steps_per_epoch, validation_steps)\u001b[0m\n\u001b[1;32m    197\u001b[0m                     \u001b[0mins_batch\u001b[0m\u001b[0;34m[\u001b[0m\u001b[0mi\u001b[0m\u001b[0;34m]\u001b[0m \u001b[0;34m=\u001b[0m \u001b[0mins_batch\u001b[0m\u001b[0;34m[\u001b[0m\u001b[0mi\u001b[0m\u001b[0;34m]\u001b[0m\u001b[0;34m.\u001b[0m\u001b[0mtoarray\u001b[0m\u001b[0;34m(\u001b[0m\u001b[0;34m)\u001b[0m\u001b[0;34m\u001b[0m\u001b[0m\n\u001b[1;32m    198\u001b[0m \u001b[0;34m\u001b[0m\u001b[0m\n\u001b[0;32m--> 199\u001b[0;31m                 \u001b[0mouts\u001b[0m \u001b[0;34m=\u001b[0m \u001b[0mf\u001b[0m\u001b[0;34m(\u001b[0m\u001b[0mins_batch\u001b[0m\u001b[0;34m)\u001b[0m\u001b[0;34m\u001b[0m\u001b[0m\n\u001b[0m\u001b[1;32m    200\u001b[0m                 \u001b[0mouts\u001b[0m \u001b[0;34m=\u001b[0m \u001b[0mto_list\u001b[0m\u001b[0;34m(\u001b[0m\u001b[0mouts\u001b[0m\u001b[0;34m)\u001b[0m\u001b[0;34m\u001b[0m\u001b[0m\n\u001b[1;32m    201\u001b[0m                 \u001b[0;32mfor\u001b[0m \u001b[0ml\u001b[0m\u001b[0;34m,\u001b[0m \u001b[0mo\u001b[0m \u001b[0;32min\u001b[0m \u001b[0mzip\u001b[0m\u001b[0;34m(\u001b[0m\u001b[0mout_labels\u001b[0m\u001b[0;34m,\u001b[0m \u001b[0mouts\u001b[0m\u001b[0;34m)\u001b[0m\u001b[0;34m:\u001b[0m\u001b[0;34m\u001b[0m\u001b[0m\n",
      "\u001b[0;32m~/anaconda3/envs/tensorflow_p36/lib/python3.6/site-packages/keras/backend/tensorflow_backend.py\u001b[0m in \u001b[0;36m__call__\u001b[0;34m(self, inputs)\u001b[0m\n\u001b[1;32m   2713\u001b[0m                 \u001b[0;32mreturn\u001b[0m \u001b[0mself\u001b[0m\u001b[0;34m.\u001b[0m\u001b[0m_legacy_call\u001b[0m\u001b[0;34m(\u001b[0m\u001b[0minputs\u001b[0m\u001b[0;34m)\u001b[0m\u001b[0;34m\u001b[0m\u001b[0m\n\u001b[1;32m   2714\u001b[0m \u001b[0;34m\u001b[0m\u001b[0m\n\u001b[0;32m-> 2715\u001b[0;31m             \u001b[0;32mreturn\u001b[0m \u001b[0mself\u001b[0m\u001b[0;34m.\u001b[0m\u001b[0m_call\u001b[0m\u001b[0;34m(\u001b[0m\u001b[0minputs\u001b[0m\u001b[0;34m)\u001b[0m\u001b[0;34m\u001b[0m\u001b[0m\n\u001b[0m\u001b[1;32m   2716\u001b[0m         \u001b[0;32melse\u001b[0m\u001b[0;34m:\u001b[0m\u001b[0;34m\u001b[0m\u001b[0m\n\u001b[1;32m   2717\u001b[0m             \u001b[0;32mif\u001b[0m \u001b[0mpy_any\u001b[0m\u001b[0;34m(\u001b[0m\u001b[0mis_tensor\u001b[0m\u001b[0;34m(\u001b[0m\u001b[0mx\u001b[0m\u001b[0;34m)\u001b[0m \u001b[0;32mfor\u001b[0m \u001b[0mx\u001b[0m \u001b[0;32min\u001b[0m \u001b[0minputs\u001b[0m\u001b[0;34m)\u001b[0m\u001b[0;34m:\u001b[0m\u001b[0;34m\u001b[0m\u001b[0m\n",
      "\u001b[0;32m~/anaconda3/envs/tensorflow_p36/lib/python3.6/site-packages/keras/backend/tensorflow_backend.py\u001b[0m in \u001b[0;36m_call\u001b[0;34m(self, inputs)\u001b[0m\n\u001b[1;32m   2673\u001b[0m             \u001b[0mfetched\u001b[0m \u001b[0;34m=\u001b[0m \u001b[0mself\u001b[0m\u001b[0;34m.\u001b[0m\u001b[0m_callable_fn\u001b[0m\u001b[0;34m(\u001b[0m\u001b[0;34m*\u001b[0m\u001b[0marray_vals\u001b[0m\u001b[0;34m,\u001b[0m \u001b[0mrun_metadata\u001b[0m\u001b[0;34m=\u001b[0m\u001b[0mself\u001b[0m\u001b[0;34m.\u001b[0m\u001b[0mrun_metadata\u001b[0m\u001b[0;34m)\u001b[0m\u001b[0;34m\u001b[0m\u001b[0m\n\u001b[1;32m   2674\u001b[0m         \u001b[0;32melse\u001b[0m\u001b[0;34m:\u001b[0m\u001b[0;34m\u001b[0m\u001b[0m\n\u001b[0;32m-> 2675\u001b[0;31m             \u001b[0mfetched\u001b[0m \u001b[0;34m=\u001b[0m \u001b[0mself\u001b[0m\u001b[0;34m.\u001b[0m\u001b[0m_callable_fn\u001b[0m\u001b[0;34m(\u001b[0m\u001b[0;34m*\u001b[0m\u001b[0marray_vals\u001b[0m\u001b[0;34m)\u001b[0m\u001b[0;34m\u001b[0m\u001b[0m\n\u001b[0m\u001b[1;32m   2676\u001b[0m         \u001b[0;32mreturn\u001b[0m \u001b[0mfetched\u001b[0m\u001b[0;34m[\u001b[0m\u001b[0;34m:\u001b[0m\u001b[0mlen\u001b[0m\u001b[0;34m(\u001b[0m\u001b[0mself\u001b[0m\u001b[0;34m.\u001b[0m\u001b[0moutputs\u001b[0m\u001b[0;34m)\u001b[0m\u001b[0;34m]\u001b[0m\u001b[0;34m\u001b[0m\u001b[0m\n\u001b[1;32m   2677\u001b[0m \u001b[0;34m\u001b[0m\u001b[0m\n",
      "\u001b[0;32m~/anaconda3/envs/tensorflow_p36/lib/python3.6/site-packages/tensorflow/python/client/session.py\u001b[0m in \u001b[0;36m__call__\u001b[0;34m(self, *args, **kwargs)\u001b[0m\n\u001b[1;32m   1437\u001b[0m           ret = tf_session.TF_SessionRunCallable(\n\u001b[1;32m   1438\u001b[0m               \u001b[0mself\u001b[0m\u001b[0;34m.\u001b[0m\u001b[0m_session\u001b[0m\u001b[0;34m.\u001b[0m\u001b[0m_session\u001b[0m\u001b[0;34m,\u001b[0m \u001b[0mself\u001b[0m\u001b[0;34m.\u001b[0m\u001b[0m_handle\u001b[0m\u001b[0;34m,\u001b[0m \u001b[0margs\u001b[0m\u001b[0;34m,\u001b[0m \u001b[0mstatus\u001b[0m\u001b[0;34m,\u001b[0m\u001b[0;34m\u001b[0m\u001b[0m\n\u001b[0;32m-> 1439\u001b[0;31m               run_metadata_ptr)\n\u001b[0m\u001b[1;32m   1440\u001b[0m         \u001b[0;32mif\u001b[0m \u001b[0mrun_metadata\u001b[0m\u001b[0;34m:\u001b[0m\u001b[0;34m\u001b[0m\u001b[0m\n\u001b[1;32m   1441\u001b[0m           \u001b[0mproto_data\u001b[0m \u001b[0;34m=\u001b[0m \u001b[0mtf_session\u001b[0m\u001b[0;34m.\u001b[0m\u001b[0mTF_GetBuffer\u001b[0m\u001b[0;34m(\u001b[0m\u001b[0mrun_metadata_ptr\u001b[0m\u001b[0;34m)\u001b[0m\u001b[0;34m\u001b[0m\u001b[0m\n",
      "\u001b[0;31mKeyboardInterrupt\u001b[0m: "
     ]
    }
   ],
   "source": [
    "srcnn_model.fit(X_imgs, Y_imgs, batch_size=32,validation_split = 0.2, shuffle=True, epochs=200,callbacks=callbacks_list, verbose=1)"
   ]
  },
  {
   "cell_type": "code",
   "execution_count": 12,
   "metadata": {},
   "outputs": [
    {
     "name": "stdout",
     "output_type": "stream",
     "text": [
      "Train on 928 samples, validate on 232 samples\n",
      "Epoch 1/200\n",
      " 33/928 [>.............................] - ETA: 41:21 - loss: 5.8315e-04 - mean_squared_error: 5.8315e-04"
     ]
    },
    {
     "ename": "KeyboardInterrupt",
     "evalue": "",
     "output_type": "error",
     "traceback": [
      "\u001b[0;31m---------------------------------------------------------------------------\u001b[0m",
      "\u001b[0;31mKeyboardInterrupt\u001b[0m                         Traceback (most recent call last)",
      "\u001b[0;32m<ipython-input-12-8a799705f7c4>\u001b[0m in \u001b[0;36m<module>\u001b[0;34m\u001b[0m\n\u001b[0;32m----> 1\u001b[0;31m \u001b[0msrcnn_model\u001b[0m\u001b[0;34m.\u001b[0m\u001b[0mfit\u001b[0m\u001b[0;34m(\u001b[0m\u001b[0mX_imgs\u001b[0m\u001b[0;34m,\u001b[0m \u001b[0mY_imgs\u001b[0m\u001b[0;34m,\u001b[0m \u001b[0mbatch_size\u001b[0m\u001b[0;34m=\u001b[0m\u001b[0;36m1\u001b[0m\u001b[0;34m,\u001b[0m\u001b[0mvalidation_split\u001b[0m \u001b[0;34m=\u001b[0m \u001b[0;36m0.2\u001b[0m\u001b[0;34m,\u001b[0m \u001b[0mshuffle\u001b[0m\u001b[0;34m=\u001b[0m\u001b[0;32mTrue\u001b[0m\u001b[0;34m,\u001b[0m \u001b[0mepochs\u001b[0m\u001b[0;34m=\u001b[0m\u001b[0;36m200\u001b[0m\u001b[0;34m,\u001b[0m\u001b[0mcallbacks\u001b[0m\u001b[0;34m=\u001b[0m\u001b[0mcallbacks_list\u001b[0m\u001b[0;34m,\u001b[0m \u001b[0mverbose\u001b[0m\u001b[0;34m=\u001b[0m\u001b[0;36m1\u001b[0m\u001b[0;34m)\u001b[0m\u001b[0;34m\u001b[0m\u001b[0m\n\u001b[0m",
      "\u001b[0;32m/opt/conda/lib/python3.6/site-packages/Keras-2.2.4-py3.6.egg/keras/engine/training.py\u001b[0m in \u001b[0;36mfit\u001b[0;34m(self, x, y, batch_size, epochs, verbose, callbacks, validation_split, validation_data, shuffle, class_weight, sample_weight, initial_epoch, steps_per_epoch, validation_steps, **kwargs)\u001b[0m\n\u001b[1;32m   1037\u001b[0m                                         \u001b[0minitial_epoch\u001b[0m\u001b[0;34m=\u001b[0m\u001b[0minitial_epoch\u001b[0m\u001b[0;34m,\u001b[0m\u001b[0;34m\u001b[0m\u001b[0m\n\u001b[1;32m   1038\u001b[0m                                         \u001b[0msteps_per_epoch\u001b[0m\u001b[0;34m=\u001b[0m\u001b[0msteps_per_epoch\u001b[0m\u001b[0;34m,\u001b[0m\u001b[0;34m\u001b[0m\u001b[0m\n\u001b[0;32m-> 1039\u001b[0;31m                                         validation_steps=validation_steps)\n\u001b[0m\u001b[1;32m   1040\u001b[0m \u001b[0;34m\u001b[0m\u001b[0m\n\u001b[1;32m   1041\u001b[0m     def evaluate(self, x=None, y=None,\n",
      "\u001b[0;32m/opt/conda/lib/python3.6/site-packages/Keras-2.2.4-py3.6.egg/keras/engine/training_arrays.py\u001b[0m in \u001b[0;36mfit_loop\u001b[0;34m(model, fit_function, fit_inputs, out_labels, batch_size, epochs, verbose, callbacks, val_function, val_inputs, shuffle, callback_metrics, initial_epoch, steps_per_epoch, validation_steps)\u001b[0m\n\u001b[1;32m    198\u001b[0m                     \u001b[0mins_batch\u001b[0m\u001b[0;34m[\u001b[0m\u001b[0mi\u001b[0m\u001b[0;34m]\u001b[0m \u001b[0;34m=\u001b[0m \u001b[0mins_batch\u001b[0m\u001b[0;34m[\u001b[0m\u001b[0mi\u001b[0m\u001b[0;34m]\u001b[0m\u001b[0;34m.\u001b[0m\u001b[0mtoarray\u001b[0m\u001b[0;34m(\u001b[0m\u001b[0;34m)\u001b[0m\u001b[0;34m\u001b[0m\u001b[0m\n\u001b[1;32m    199\u001b[0m \u001b[0;34m\u001b[0m\u001b[0m\n\u001b[0;32m--> 200\u001b[0;31m                 \u001b[0mouts\u001b[0m \u001b[0;34m=\u001b[0m \u001b[0mfit_function\u001b[0m\u001b[0;34m(\u001b[0m\u001b[0mins_batch\u001b[0m\u001b[0;34m)\u001b[0m\u001b[0;34m\u001b[0m\u001b[0m\n\u001b[0m\u001b[1;32m    201\u001b[0m                 \u001b[0mouts\u001b[0m \u001b[0;34m=\u001b[0m \u001b[0mto_list\u001b[0m\u001b[0;34m(\u001b[0m\u001b[0mouts\u001b[0m\u001b[0;34m)\u001b[0m\u001b[0;34m\u001b[0m\u001b[0m\n\u001b[1;32m    202\u001b[0m                 \u001b[0;32mfor\u001b[0m \u001b[0ml\u001b[0m\u001b[0;34m,\u001b[0m \u001b[0mo\u001b[0m \u001b[0;32min\u001b[0m \u001b[0mzip\u001b[0m\u001b[0;34m(\u001b[0m\u001b[0mout_labels\u001b[0m\u001b[0;34m,\u001b[0m \u001b[0mouts\u001b[0m\u001b[0;34m)\u001b[0m\u001b[0;34m:\u001b[0m\u001b[0;34m\u001b[0m\u001b[0m\n",
      "\u001b[0;32m/opt/conda/lib/python3.6/site-packages/Keras-2.2.4-py3.6.egg/keras/backend/tensorflow_backend.py\u001b[0m in \u001b[0;36m__call__\u001b[0;34m(self, inputs)\u001b[0m\n\u001b[1;32m   2713\u001b[0m                 \u001b[0;32mreturn\u001b[0m \u001b[0mself\u001b[0m\u001b[0;34m.\u001b[0m\u001b[0m_legacy_call\u001b[0m\u001b[0;34m(\u001b[0m\u001b[0minputs\u001b[0m\u001b[0;34m)\u001b[0m\u001b[0;34m\u001b[0m\u001b[0m\n\u001b[1;32m   2714\u001b[0m \u001b[0;34m\u001b[0m\u001b[0m\n\u001b[0;32m-> 2715\u001b[0;31m             \u001b[0;32mreturn\u001b[0m \u001b[0mself\u001b[0m\u001b[0;34m.\u001b[0m\u001b[0m_call\u001b[0m\u001b[0;34m(\u001b[0m\u001b[0minputs\u001b[0m\u001b[0;34m)\u001b[0m\u001b[0;34m\u001b[0m\u001b[0m\n\u001b[0m\u001b[1;32m   2716\u001b[0m         \u001b[0;32melse\u001b[0m\u001b[0;34m:\u001b[0m\u001b[0;34m\u001b[0m\u001b[0m\n\u001b[1;32m   2717\u001b[0m             \u001b[0;32mif\u001b[0m \u001b[0mpy_any\u001b[0m\u001b[0;34m(\u001b[0m\u001b[0mis_tensor\u001b[0m\u001b[0;34m(\u001b[0m\u001b[0mx\u001b[0m\u001b[0;34m)\u001b[0m \u001b[0;32mfor\u001b[0m \u001b[0mx\u001b[0m \u001b[0;32min\u001b[0m \u001b[0minputs\u001b[0m\u001b[0;34m)\u001b[0m\u001b[0;34m:\u001b[0m\u001b[0;34m\u001b[0m\u001b[0m\n",
      "\u001b[0;32m/opt/conda/lib/python3.6/site-packages/Keras-2.2.4-py3.6.egg/keras/backend/tensorflow_backend.py\u001b[0m in \u001b[0;36m_call\u001b[0;34m(self, inputs)\u001b[0m\n\u001b[1;32m   2673\u001b[0m             \u001b[0mfetched\u001b[0m \u001b[0;34m=\u001b[0m \u001b[0mself\u001b[0m\u001b[0;34m.\u001b[0m\u001b[0m_callable_fn\u001b[0m\u001b[0;34m(\u001b[0m\u001b[0;34m*\u001b[0m\u001b[0marray_vals\u001b[0m\u001b[0;34m,\u001b[0m \u001b[0mrun_metadata\u001b[0m\u001b[0;34m=\u001b[0m\u001b[0mself\u001b[0m\u001b[0;34m.\u001b[0m\u001b[0mrun_metadata\u001b[0m\u001b[0;34m)\u001b[0m\u001b[0;34m\u001b[0m\u001b[0m\n\u001b[1;32m   2674\u001b[0m         \u001b[0;32melse\u001b[0m\u001b[0;34m:\u001b[0m\u001b[0;34m\u001b[0m\u001b[0m\n\u001b[0;32m-> 2675\u001b[0;31m             \u001b[0mfetched\u001b[0m \u001b[0;34m=\u001b[0m \u001b[0mself\u001b[0m\u001b[0;34m.\u001b[0m\u001b[0m_callable_fn\u001b[0m\u001b[0;34m(\u001b[0m\u001b[0;34m*\u001b[0m\u001b[0marray_vals\u001b[0m\u001b[0;34m)\u001b[0m\u001b[0;34m\u001b[0m\u001b[0m\n\u001b[0m\u001b[1;32m   2676\u001b[0m         \u001b[0;32mreturn\u001b[0m \u001b[0mfetched\u001b[0m\u001b[0;34m[\u001b[0m\u001b[0;34m:\u001b[0m\u001b[0mlen\u001b[0m\u001b[0;34m(\u001b[0m\u001b[0mself\u001b[0m\u001b[0;34m.\u001b[0m\u001b[0moutputs\u001b[0m\u001b[0;34m)\u001b[0m\u001b[0;34m]\u001b[0m\u001b[0;34m\u001b[0m\u001b[0m\n\u001b[1;32m   2677\u001b[0m \u001b[0;34m\u001b[0m\u001b[0m\n",
      "\u001b[0;32m/opt/conda/lib/python3.6/site-packages/tensorflow/python/client/session.py\u001b[0m in \u001b[0;36m__call__\u001b[0;34m(self, *args, **kwargs)\u001b[0m\n\u001b[1;32m   1397\u001b[0m           ret = tf_session.TF_SessionRunCallable(\n\u001b[1;32m   1398\u001b[0m               \u001b[0mself\u001b[0m\u001b[0;34m.\u001b[0m\u001b[0m_session\u001b[0m\u001b[0;34m.\u001b[0m\u001b[0m_session\u001b[0m\u001b[0;34m,\u001b[0m \u001b[0mself\u001b[0m\u001b[0;34m.\u001b[0m\u001b[0m_handle\u001b[0m\u001b[0;34m,\u001b[0m \u001b[0margs\u001b[0m\u001b[0;34m,\u001b[0m \u001b[0mstatus\u001b[0m\u001b[0;34m,\u001b[0m\u001b[0;34m\u001b[0m\u001b[0m\n\u001b[0;32m-> 1399\u001b[0;31m               run_metadata_ptr)\n\u001b[0m\u001b[1;32m   1400\u001b[0m         \u001b[0;32mif\u001b[0m \u001b[0mrun_metadata\u001b[0m\u001b[0;34m:\u001b[0m\u001b[0;34m\u001b[0m\u001b[0m\n\u001b[1;32m   1401\u001b[0m           \u001b[0mproto_data\u001b[0m \u001b[0;34m=\u001b[0m \u001b[0mtf_session\u001b[0m\u001b[0;34m.\u001b[0m\u001b[0mTF_GetBuffer\u001b[0m\u001b[0;34m(\u001b[0m\u001b[0mrun_metadata_ptr\u001b[0m\u001b[0;34m)\u001b[0m\u001b[0;34m\u001b[0m\u001b[0m\n",
      "\u001b[0;31mKeyboardInterrupt\u001b[0m: "
     ]
    }
   ],
   "source": [
    "srcnn_model.fit(X_imgs, Y_imgs, batch_size=1,validation_split = 0.2, shuffle=True, epochs=200,callbacks=callbacks_list, verbose=1)"
   ]
  },
  {
   "cell_type": "code",
   "execution_count": null,
   "metadata": {},
   "outputs": [],
   "source": []
  }
 ],
 "metadata": {
  "kernelspec": {
   "display_name": "Python 3",
   "language": "python",
   "name": "python3"
  },
  "language_info": {
   "codemirror_mode": {
    "name": "ipython",
    "version": 3
   },
   "file_extension": ".py",
   "mimetype": "text/x-python",
   "name": "python",
   "nbconvert_exporter": "python",
   "pygments_lexer": "ipython3",
   "version": "3.6.6"
  }
 },
 "nbformat": 4,
 "nbformat_minor": 2
}
